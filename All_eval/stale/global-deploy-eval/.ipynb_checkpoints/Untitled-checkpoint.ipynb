{
 "cells": [
  {
   "cell_type": "code",
   "execution_count": 1,
   "id": "0bf82e59-c3ef-4afe-9c3c-a34f4a7c668a",
   "metadata": {},
   "outputs": [],
   "source": [
    "import pdb\n",
    "import pandas as pd\n",
    "import os\n",
    "import numpy as np\n",
    "import matplotlib.pyplot as plt\n",
    "import matplotlib.lines as mlines\n",
    "import sys\n",
    "from datetime import datetime, timedelta"
   ]
  },
  {
   "cell_type": "code",
   "execution_count": 22,
   "id": "850d10f5-1222-4541-8c1c-e2c3d8b04d6e",
   "metadata": {},
   "outputs": [
    {
     "name": "stdout",
     "output_type": "stream",
     "text": [
      "['0.26430', '0.27697', '0.26216', '0.25668', '0.20077', '0.12058', '0.10105', '0.09891', '0.07034', '0.07786', '0.04957', '0.04300', '0.04629', '0.04086', '0.04219', '0.03781', '0.04429', '0.05024', '0.04800', '0.04819', '0.06034', '0.06319', '0.06777', '0.07134', '0.07067', '0.06715', '0.06977', '0.06438', '0.05724', '0.05029', '0.05029', '0.04934', '0.05143', '0.05081', '0.04834', '0.05057', '0.04929', '0.04619', '0.04353', '0.04114', '0.04205', '0.04267', '0.04200', '0.04157', '0.04157', '0.04200', '0.04300', '0.04319', '0.04553', '0.04729', '0.04600', '0.04600']\n",
      "\n",
      "train_error after convert \n",
      " [0.2643, 0.27697, 0.26216, 0.25668, 0.20077, 0.12058, 0.10105, 0.09891, 0.07034, 0.07786, 0.04957, 0.043, 0.04629, 0.04086, 0.04219, 0.03781, 0.04429, 0.05024, 0.048, 0.04819, 0.06034, 0.06319, 0.06777, 0.07134, 0.07067, 0.06715, 0.06977, 0.06438, 0.05724, 0.05029, 0.05029, 0.04934, 0.05143, 0.05081, 0.04834, 0.05057, 0.04929, 0.04619, 0.04353, 0.04114, 0.04205, 0.04267, 0.042, 0.04157, 0.04157, 0.042, 0.043, 0.04319, 0.04553, 0.04729, 0.046, 0.046]\n"
     ]
    }
   ],
   "source": [
    "train_error = []\n",
    "total_nodes = 10\n",
    "def parse_logs(numRuns, input_file_directory, output_file_directory):\n",
    "    for i in range(0, numRuns):\n",
    "\n",
    "        fname = input_file_directory + \"/log_0_\" + str(total_nodes) + \".log\"\n",
    "        lines = [line.rstrip('\\n') for line in open(fname)]\n",
    "\n",
    "        if not os.path.exists(output_file_directory):\n",
    "            os.makedirs(output_file_directory)\n",
    "\n",
    "        outfile = open(output_file_directory + \"data\" + str(i), \"w\")\n",
    "        iteration = 0\n",
    "\n",
    "        for line in lines:\n",
    "\n",
    "            idx = line.find(\"Train Error\")\n",
    "\n",
    "            if idx != -1:\n",
    "                timestamp = line[7:20]\n",
    "\n",
    "                outfile.write(str(iteration))\n",
    "                outfile.write(\",\")\n",
    "                outfile.write(line[(idx + 15):(idx + 22)])\n",
    "                train_error.append(line[(idx + 15):(idx+22)])\n",
    "                outfile.write(\",\")\n",
    "                outfile.write(timestamp)\n",
    "                outfile.write(\"\\n\")\n",
    "\n",
    "                iteration = iteration + 1\n",
    "\n",
    "        outfile.close()\n",
    "        return train_error\n",
    "\n",
    "        \n",
    "\n",
    "print(parse_logs(1 , \"../../DistSys/LogFiles\" , \"../Eval_9.15\"))\n",
    "\n",
    "for value in train_error:\n",
    "    train_error[train_error.index(value)] = float(value)\n",
    "    \n",
    "print(\"\\ntrain_error after convert \\n\" , train_error)"
   ]
  },
  {
   "cell_type": "code",
   "execution_count": 24,
   "id": "7eeba776-6caa-4a4b-89c0-4edc68cf8f72",
   "metadata": {},
   "outputs": [
    {
     "data": {
      "image/png": "[encoded data removed]",
      "text/plain": [
       "<Figure size 864x288 with 1 Axes>"
      ]
     },
     "metadata": {
      "needs_background": "light"
     },
     "output_type": "display_data"
    }
   ],
   "source": [
    "plt.figure(figsize=(12 , 4))\n",
    "\n",
    "plt.subplot(1 ,1 ,1)\n",
    "plt.plot( range(52) , train_error , 'ro-' , label = \"Biscotti Creditcard 10 node\")\n",
    "plt.legend()\n",
    "plt.xlabel('epoch')\n",
    "plt.ylabel('train error')\n",
    "\n",
    "plt.show()"
   ]
  }
 ],
 "metadata": {
  "kernelspec": {
   "display_name": "Python 3",
   "language": "python",
   "name": "python3"
  },
  "language_info": {
   "codemirror_mode": {
    "name": "ipython",
    "version": 3
   },
   "file_extension": ".py",
   "mimetype": "text/x-python",
   "name": "python",
   "nbconvert_exporter": "python",
   "pygments_lexer": "ipython3",
   "version": "3.8.8"
  }
 },
 "nbformat": 4,
 "nbformat_minor": 5
}
